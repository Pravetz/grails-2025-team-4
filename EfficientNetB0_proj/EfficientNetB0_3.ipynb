{
  "nbformat": 4,
  "nbformat_minor": 0,
  "metadata": {
    "colab": {
      "provenance": []
    },
    "kernelspec": {
      "name": "python3",
      "display_name": "Python 3"
    },
    "language_info": {
      "name": "python"
    }
  },
  "cells": [
    {
      "cell_type": "code",
      "execution_count": null,
      "metadata": {
        "id": "bVECWoEGuisk"
      },
      "outputs": [],
      "source": [
        "import tensorflow as tf\n",
        "import matplotlib.pyplot as plt\n",
        "import seaborn as sns\n",
        "import numpy as np\n",
        "import itertools\n",
        "from tensorflow.keras.applications import EfficientNetB0\n",
        "from tensorflow.keras import layers, models\n",
        "from tensorflow.keras.preprocessing.image import ImageDataGenerator\n",
        "from sklearn.metrics import classification_report, confusion_matrix"
      ]
    },
    {
      "cell_type": "code",
      "source": [
        "\n",
        "# --- 1. Load Pretrained EfficientNet ---\n",
        "base_model = EfficientNetB0(weights=\"imagenet\", include_top=False, input_shape=(224, 224, 3))\n",
        "base_model.trainable = False  # Freeze base model initially"
      ],
      "metadata": {
        "colab": {
          "base_uri": "https://localhost:8080/"
        },
        "id": "o2s_TPuxu4S_",
        "outputId": "3e890a81-f96c-47c6-8169-831b63794ad1"
      },
      "execution_count": null,
      "outputs": [
        {
          "output_type": "stream",
          "name": "stdout",
          "text": [
            "Downloading data from https://storage.googleapis.com/keras-applications/efficientnetb0_notop.h5\n",
            "\u001b[1m16705208/16705208\u001b[0m \u001b[32m━━━━━━━━━━━━━━━━━━━━\u001b[0m\u001b[37m\u001b[0m \u001b[1m0s\u001b[0m 0us/step\n"
          ]
        }
      ]
    },
    {
      "cell_type": "code",
      "source": [
        "# --- 2. Build Custom Classification Head ---\n",
        "model = models.Sequential([\n",
        "    base_model,\n",
        "    layers.GlobalAveragePooling2D(),\n",
        "    layers.Dense(128, activation='relu'),\n",
        "    layers.Dropout(0.3),\n",
        "    layers.Dense(10, activation='softmax')  # 10 classes\n",
        "])"
      ],
      "metadata": {
        "id": "zsrFJmTju52i"
      },
      "execution_count": null,
      "outputs": []
    },
    {
      "cell_type": "code",
      "source": [
        "# --- 3. Compile the Model ---\n",
        "model.compile(optimizer=\"adam\",\n",
        "              loss=\"sparse_categorical_crossentropy\",\n",
        "              metrics=[\"accuracy\"])\n"
      ],
      "metadata": {
        "id": "m8PgNsRVu7dd"
      },
      "execution_count": null,
      "outputs": []
    },
    {
      "cell_type": "code",
      "source": [
        "# --- 4. Image Data Generators ---\n",
        "train_datagen = ImageDataGenerator(\n",
        "    rescale=1.0/255, rotation_range=20, horizontal_flip=True, zoom_range=0.2\n",
        ")\n",
        "val_datagen = ImageDataGenerator(rescale=1.0/255)\n",
        "\n",
        "train_generator = train_datagen.flow_from_directory(\n",
        "    \"/content/drive/MyDrive/AI/Datasets/train/train\", target_size=(224, 224), batch_size=32, class_mode=\"sparse\"\n",
        ")\n",
        "val_generator = val_datagen.flow_from_directory(\n",
        "    \"/content/drive/MyDrive/AI/Datasets/test/test\", target_size=(224, 224), batch_size=32, class_mode=\"sparse\"\n",
        ")"
      ],
      "metadata": {
        "colab": {
          "base_uri": "https://localhost:8080/"
        },
        "id": "N1E-aoFZu_Dx",
        "outputId": "5373d75e-e6f3-4896-ccb7-386d8dba72dd"
      },
      "execution_count": null,
      "outputs": [
        {
          "output_type": "stream",
          "name": "stdout",
          "text": [
            "Found 13914 images belonging to 10 classes.\n",
            "Found 3483 images belonging to 10 classes.\n"
          ]
        }
      ]
    },
    {
      "cell_type": "code",
      "source": [
        "# --- 5. Train the Model ---\n",
        "history = model.fit(train_generator, validation_data=val_generator, epochs=10)\n"
      ],
      "metadata": {
        "colab": {
          "base_uri": "https://localhost:8080/"
        },
        "id": "dCMU-kB_vBIm",
        "outputId": "43316b7d-a405-4996-c5d0-997678191dd4"
      },
      "execution_count": null,
      "outputs": [
        {
          "output_type": "stream",
          "name": "stderr",
          "text": [
            "/usr/local/lib/python3.11/dist-packages/keras/src/trainers/data_adapters/py_dataset_adapter.py:121: UserWarning: Your `PyDataset` class should call `super().__init__(**kwargs)` in its constructor. `**kwargs` can include `workers`, `use_multiprocessing`, `max_queue_size`. Do not pass these arguments to `fit()`, as they will be ignored.\n",
            "  self._warn_if_super_not_called()\n"
          ]
        },
        {
          "output_type": "stream",
          "name": "stdout",
          "text": [
            "Epoch 1/10\n",
            "\u001b[1m435/435\u001b[0m \u001b[32m━━━━━━━━━━━━━━━━━━━━\u001b[0m\u001b[37m\u001b[0m \u001b[1m4947s\u001b[0m 11s/step - accuracy: 0.1713 - loss: 2.2417 - val_accuracy: 0.1789 - val_loss: 2.2131\n",
            "Epoch 2/10\n",
            "\u001b[1m435/435\u001b[0m \u001b[32m━━━━━━━━━━━━━━━━━━━━\u001b[0m\u001b[37m\u001b[0m \u001b[1m1580s\u001b[0m 4s/step - accuracy: 0.1800 - loss: 2.2211 - val_accuracy: 0.1809 - val_loss: 2.2095\n",
            "Epoch 3/10\n",
            "\u001b[1m435/435\u001b[0m \u001b[32m━━━━━━━━━━━━━━━━━━━━\u001b[0m\u001b[37m\u001b[0m \u001b[1m1568s\u001b[0m 4s/step - accuracy: 0.1720 - loss: 2.2233 - val_accuracy: 0.1809 - val_loss: 2.2232\n",
            "Epoch 4/10\n",
            "\u001b[1m435/435\u001b[0m \u001b[32m━━━━━━━━━━━━━━━━━━━━\u001b[0m\u001b[37m\u001b[0m \u001b[1m1608s\u001b[0m 4s/step - accuracy: 0.1792 - loss: 2.2146 - val_accuracy: 0.1809 - val_loss: 2.2107\n",
            "Epoch 5/10\n",
            "\u001b[1m435/435\u001b[0m \u001b[32m━━━━━━━━━━━━━━━━━━━━\u001b[0m\u001b[37m\u001b[0m \u001b[1m1637s\u001b[0m 4s/step - accuracy: 0.1847 - loss: 2.2120 - val_accuracy: 0.1809 - val_loss: 2.2090\n",
            "Epoch 6/10\n",
            "\u001b[1m435/435\u001b[0m \u001b[32m━━━━━━━━━━━━━━━━━━━━\u001b[0m\u001b[37m\u001b[0m \u001b[1m1600s\u001b[0m 4s/step - accuracy: 0.1796 - loss: 2.2167 - val_accuracy: 0.1809 - val_loss: 2.2096\n",
            "Epoch 7/10\n",
            "\u001b[1m435/435\u001b[0m \u001b[32m━━━━━━━━━━━━━━━━━━━━\u001b[0m\u001b[37m\u001b[0m \u001b[1m1599s\u001b[0m 4s/step - accuracy: 0.1759 - loss: 2.2174 - val_accuracy: 0.1809 - val_loss: 2.2093\n",
            "Epoch 8/10\n",
            "\u001b[1m435/435\u001b[0m \u001b[32m━━━━━━━━━━━━━━━━━━━━\u001b[0m\u001b[37m\u001b[0m \u001b[1m1672s\u001b[0m 4s/step - accuracy: 0.1792 - loss: 2.2109 - val_accuracy: 0.1809 - val_loss: 2.2100\n",
            "Epoch 9/10\n",
            "\u001b[1m435/435\u001b[0m \u001b[32m━━━━━━━━━━━━━━━━━━━━\u001b[0m\u001b[37m\u001b[0m \u001b[1m1660s\u001b[0m 4s/step - accuracy: 0.1826 - loss: 2.2101 - val_accuracy: 0.1809 - val_loss: 2.2090\n",
            "Epoch 10/10\n",
            "\u001b[1m435/435\u001b[0m \u001b[32m━━━━━━━━━━━━━━━━━━━━\u001b[0m\u001b[37m\u001b[0m \u001b[1m1652s\u001b[0m 4s/step - accuracy: 0.1872 - loss: 2.2073 - val_accuracy: 0.1789 - val_loss: 2.2096\n"
          ]
        }
      ]
    },
    {
      "cell_type": "code",
      "source": [
        "model.save(\"/content/drive/MyDrive/AI/models/efficientnet_model_no_tune.h5\")\n",
        "import json\n",
        "\n",
        "# Save history\n",
        "with open(\"/content/drive/MyDrive/AI/models/training_history.json\", \"w\") as f:\n",
        "    json.dump(history.history, f)\n"
      ],
      "metadata": {
        "id": "4U0E7hstU9xr",
        "colab": {
          "base_uri": "https://localhost:8080/"
        },
        "outputId": "cb7a8586-5017-42c8-ef83-03aa038d3ac5"
      },
      "execution_count": null,
      "outputs": [
        {
          "output_type": "stream",
          "name": "stderr",
          "text": [
            "WARNING:absl:You are saving your model as an HDF5 file via `model.save()` or `keras.saving.save_model(model)`. This file format is considered legacy. We recommend using instead the native Keras format, e.g. `model.save('my_model.keras')` or `keras.saving.save_model(model, 'my_model.keras')`. \n"
          ]
        }
      ]
    },
    {
      "cell_type": "code",
      "source": [
        "# --- 6. Fine-Tune (Unfreeze Base Model) ---\n",
        "base_model.trainable = True\n",
        "model.compile(optimizer=tf.keras.optimizers.Adam(learning_rate=1e-5),\n",
        "              loss=\"sparse_categorical_crossentropy\",\n",
        "              metrics=[\"accuracy\"])\n",
        "\n",
        "history_finetune = model.fit(train_generator, validation_data=val_generator, epochs=10)\n"
      ],
      "metadata": {
        "colab": {
          "base_uri": "https://localhost:8080/"
        },
        "id": "pFwWheLYvZIu",
        "outputId": "8e439e43-b312-40ae-99de-cbab57102550"
      },
      "execution_count": null,
      "outputs": [
        {
          "output_type": "stream",
          "name": "stdout",
          "text": [
            "Epoch 1/10\n",
            "\u001b[1m435/435\u001b[0m \u001b[32m━━━━━━━━━━━━━━━━━━━━\u001b[0m\u001b[37m\u001b[0m \u001b[1m5065s\u001b[0m 12s/step - accuracy: 0.2222 - loss: 2.4693 - val_accuracy: 0.2667 - val_loss: 2.1272\n",
            "Epoch 2/10\n",
            "\u001b[1m435/435\u001b[0m \u001b[32m━━━━━━━━━━━━━━━━━━━━\u001b[0m\u001b[37m\u001b[0m \u001b[1m5002s\u001b[0m 11s/step - accuracy: 0.4762 - loss: 1.6163 - val_accuracy: 0.2862 - val_loss: 2.0602\n",
            "Epoch 3/10\n",
            "\u001b[1m435/435\u001b[0m \u001b[32m━━━━━━━━━━━━━━━━━━━━\u001b[0m\u001b[37m\u001b[0m \u001b[1m4996s\u001b[0m 11s/step - accuracy: 0.6100 - loss: 1.2322 - val_accuracy: 0.3207 - val_loss: 1.9463\n",
            "Epoch 4/10\n",
            "\u001b[1m435/435\u001b[0m \u001b[32m━━━━━━━━━━━━━━━━━━━━\u001b[0m\u001b[37m\u001b[0m \u001b[1m4977s\u001b[0m 11s/step - accuracy: 0.7005 - loss: 0.9536 - val_accuracy: 0.2038 - val_loss: 2.2699\n",
            "Epoch 5/10\n",
            "\u001b[1m255/435\u001b[0m \u001b[32m━━━━━━━━━━━\u001b[0m\u001b[37m━━━━━━━━━\u001b[0m \u001b[1m32:36\u001b[0m 11s/step - accuracy: 0.7523 - loss: 0.7831"
          ]
        }
      ]
    },
    {
      "cell_type": "code",
      "source": [
        "# --- 7. Save the Model ---\n",
        "model.save(\"/content/drive/MyDrive/AI/models/efficientnet_model_3.h5\")\n",
        "import json\n",
        "\n",
        "# Save history\n",
        "with open(\"/content/drive/MyDrive/AI/models/history_finetune.json\", \"w\") as f:\n",
        "    json.dump(history_finetune.history, f)\n"
      ],
      "metadata": {
        "id": "aUnQPWQvvcqJ"
      },
      "execution_count": null,
      "outputs": []
    },
    {
      "cell_type": "markdown",
      "source": [],
      "metadata": {
        "id": "I8nZb8mTCuRF"
      }
    },
    {
      "cell_type": "code",
      "source": [
        "\n",
        "# --- 8. Plot Training Accuracy & Loss ---\n",
        "def plot_training_history(history, history_finetune):\n",
        "    acc = history.history['accuracy'] + history_finetune.history['accuracy']\n",
        "    val_acc = history.history['val_accuracy'] + history_finetune.history['val_accuracy']\n",
        "    loss = history.history['loss'] + history_finetune.history['loss']\n",
        "    val_loss = history.history['val_loss'] + history_finetune.history['val_loss']\n",
        "\n",
        "    epochs_range = range(len(acc))\n",
        "\n",
        "    plt.figure(figsize=(12, 5))\n",
        "\n",
        "    # Plot Accuracy\n",
        "    plt.subplot(1, 2, 1)\n",
        "    plt.plot(epochs_range, acc, label='Training Accuracy')\n",
        "    plt.plot(epochs_range, val_acc, label='Validation Accuracy')\n",
        "    plt.legend()\n",
        "    plt.title(\"Training & Validation Accuracy\")\n",
        "\n",
        "    # Plot Loss\n",
        "    plt.subplot(1, 2, 2)\n",
        "    plt.plot(epochs_range, loss, label='Training Loss')\n",
        "    plt.plot(epochs_range, val_loss, label='Validation Loss')\n",
        "    plt.legend()\n",
        "    plt.title(\"Training & Validation Loss\")\n",
        "\n",
        "    plt.show()\n",
        "\n",
        "plot_training_history(history, history_finetune)"
      ],
      "metadata": {
        "id": "pNS6RTEYvlq5"
      },
      "execution_count": null,
      "outputs": []
    },
    {
      "cell_type": "code",
      "source": [
        "\n",
        "# --- 9. Model Evaluation on Validation Data ---\n",
        "val_generator.reset()\n",
        "y_true = val_generator.classes\n",
        "y_pred_probs = model.predict(val_generator)\n",
        "y_pred = np.argmax(y_pred_probs, axis=1)\n"
      ],
      "metadata": {
        "id": "xeJRIlFZvpHG"
      },
      "execution_count": null,
      "outputs": []
    },
    {
      "cell_type": "code",
      "source": [
        "# --- 10. Classification Report ---\n",
        "print(\"\\nClassification Report:\\n\")\n",
        "print(classification_report(y_true, y_pred, target_names=list(val_generator.class_indices.keys())))\n"
      ],
      "metadata": {
        "id": "YJHWNguHvrxK"
      },
      "execution_count": null,
      "outputs": []
    },
    {
      "cell_type": "code",
      "source": [
        "# --- 11. Confusion Matrix ---\n",
        "def plot_confusion_matrix(y_true, y_pred, classes):\n",
        "    cm = confusion_matrix(y_true, y_pred)\n",
        "    plt.figure(figsize=(10, 8))\n",
        "    sns.heatmap(cm, annot=True, fmt=\"d\", cmap=\"Blues\", xticklabels=classes, yticklabels=classes)\n",
        "    plt.xlabel(\"Predicted\")\n",
        "    plt.ylabel(\"True\")\n",
        "    plt.title(\"Confusion Matrix\")\n",
        "    plt.show()\n",
        "\n",
        "plot_confusion_matrix(y_true, y_pred, list(val_generator.class_indices.keys()))\n"
      ],
      "metadata": {
        "id": "Tne0XgruvtNY"
      },
      "execution_count": null,
      "outputs": []
    },
    {
      "cell_type": "markdown",
      "source": [
        "# Load model + fine tune"
      ],
      "metadata": {
        "id": "adR_7lm3hxdh"
      }
    },
    {
      "cell_type": "code",
      "source": [
        "import tensorflow as tf\n",
        "from tensorflow.keras.models import load_model\n",
        "from tensorflow.keras.optimizers import Adam\n",
        "from tensorflow.keras.preprocessing.image import ImageDataGenerator\n",
        "import json"
      ],
      "metadata": {
        "id": "tW14uj69hwiG"
      },
      "execution_count": null,
      "outputs": []
    },
    {
      "cell_type": "code",
      "source": [
        "model = load_model(\"/content/drive/MyDrive/AI/models/efficientnet_model_no_tune.h5\")"
      ],
      "metadata": {
        "colab": {
          "base_uri": "https://localhost:8080/"
        },
        "id": "uUW_dd4VDVHr",
        "outputId": "6e2ba194-84d9-42ac-acfc-b9a0137d5dfe"
      },
      "execution_count": null,
      "outputs": [
        {
          "output_type": "stream",
          "name": "stderr",
          "text": [
            "WARNING:absl:Compiled the loaded model, but the compiled metrics have yet to be built. `model.compile_metrics` will be empty until you train or evaluate the model.\n"
          ]
        }
      ]
    },
    {
      "cell_type": "code",
      "source": [
        "base_model = model.layers[0]\n",
        "base_model.trainable = True"
      ],
      "metadata": {
        "id": "J_qJXBTYDVJ5"
      },
      "execution_count": null,
      "outputs": []
    },
    {
      "cell_type": "code",
      "source": [
        "model.compile(optimizer=Adam(learning_rate=1e-5),\n",
        "              loss=\"sparse_categorical_crossentropy\",\n",
        "              metrics=[\"accuracy\"])\n"
      ],
      "metadata": {
        "id": "v4m-gexIDVMN"
      },
      "execution_count": null,
      "outputs": []
    },
    {
      "cell_type": "code",
      "source": [
        "train_datagen = ImageDataGenerator(rescale=1.0/255, rotation_range=20, horizontal_flip=True, zoom_range=0.2)\n",
        "val_datagen = ImageDataGenerator(rescale=1.0/255)\n",
        "\n",
        "train_generator = train_datagen.flow_from_directory(\n",
        "    \"/content/drive/MyDrive/AI/Datasets/train/train\", target_size=(224, 224), batch_size=32, class_mode=\"sparse\"\n",
        ")\n",
        "val_generator = val_datagen.flow_from_directory(\n",
        "    \"/content/drive/MyDrive/AI/Datasets/test/test\", target_size=(224, 224), batch_size=32, class_mode=\"sparse\"\n",
        ")\n"
      ],
      "metadata": {
        "colab": {
          "base_uri": "https://localhost:8080/"
        },
        "id": "baUy4O_0DVOT",
        "outputId": "28d1b20a-2da1-4c56-b132-d386a531e0d8"
      },
      "execution_count": null,
      "outputs": [
        {
          "output_type": "stream",
          "name": "stdout",
          "text": [
            "Found 13914 images belonging to 10 classes.\n",
            "Found 3483 images belonging to 10 classes.\n"
          ]
        }
      ]
    },
    {
      "cell_type": "code",
      "source": [
        "history_finetune = model.fit(train_generator, validation_data=val_generator, epochs=10)\n"
      ],
      "metadata": {
        "colab": {
          "base_uri": "https://localhost:8080/"
        },
        "id": "05aXZimVDZgK",
        "outputId": "712f2a53-8ac1-43a3-fe72-d018c29e1d87"
      },
      "execution_count": null,
      "outputs": [
        {
          "output_type": "stream",
          "name": "stderr",
          "text": [
            "/usr/local/lib/python3.11/dist-packages/keras/src/trainers/data_adapters/py_dataset_adapter.py:121: UserWarning: Your `PyDataset` class should call `super().__init__(**kwargs)` in its constructor. `**kwargs` can include `workers`, `use_multiprocessing`, `max_queue_size`. Do not pass these arguments to `fit()`, as they will be ignored.\n",
            "  self._warn_if_super_not_called()\n"
          ]
        },
        {
          "output_type": "stream",
          "name": "stdout",
          "text": [
            "Epoch 1/10\n",
            "\u001b[1m435/435\u001b[0m \u001b[32m━━━━━━━━━━━━━━━━━━━━\u001b[0m\u001b[37m\u001b[0m \u001b[1m5070s\u001b[0m 11s/step - accuracy: 0.2276 - loss: 2.4721 - val_accuracy: 0.1266 - val_loss: 19.0154\n",
            "Epoch 2/10\n",
            "\u001b[1m435/435\u001b[0m \u001b[32m━━━━━━━━━━━━━━━━━━━━\u001b[0m\u001b[37m\u001b[0m \u001b[1m4522s\u001b[0m 10s/step - accuracy: 0.5237 - loss: 1.5188 - val_accuracy: 0.6492 - val_loss: 1.2805\n",
            "Epoch 3/10\n",
            "\u001b[1m435/435\u001b[0m \u001b[32m━━━━━━━━━━━━━━━━━━━━\u001b[0m\u001b[37m\u001b[0m \u001b[1m4536s\u001b[0m 10s/step - accuracy: 0.6642 - loss: 1.0808 - val_accuracy: 0.7775 - val_loss: 0.7566\n",
            "Epoch 4/10\n",
            "\u001b[1m435/435\u001b[0m \u001b[32m━━━━━━━━━━━━━━━━━━━━\u001b[0m\u001b[37m\u001b[0m \u001b[1m4552s\u001b[0m 10s/step - accuracy: 0.7429 - loss: 0.8378 - val_accuracy: 0.8229 - val_loss: 0.5767\n",
            "Epoch 5/10\n",
            "\u001b[1m435/435\u001b[0m \u001b[32m━━━━━━━━━━━━━━━━━━━━\u001b[0m\u001b[37m\u001b[0m \u001b[1m4530s\u001b[0m 10s/step - accuracy: 0.7903 - loss: 0.6681 - val_accuracy: 0.8498 - val_loss: 0.4713\n",
            "Epoch 6/10\n",
            "\u001b[1m435/435\u001b[0m \u001b[32m━━━━━━━━━━━━━━━━━━━━\u001b[0m\u001b[37m\u001b[0m \u001b[1m4500s\u001b[0m 10s/step - accuracy: 0.8126 - loss: 0.5739 - val_accuracy: 0.8708 - val_loss: 0.4093\n",
            "Epoch 7/10\n",
            "\u001b[1m435/435\u001b[0m \u001b[32m━━━━━━━━━━━━━━━━━━━━\u001b[0m\u001b[37m\u001b[0m \u001b[1m4539s\u001b[0m 10s/step - accuracy: 0.8417 - loss: 0.4952 - val_accuracy: 0.8840 - val_loss: 0.3597\n",
            "Epoch 8/10\n",
            "\u001b[1m435/435\u001b[0m \u001b[32m━━━━━━━━━━━━━━━━━━━━\u001b[0m\u001b[37m\u001b[0m \u001b[1m4591s\u001b[0m 11s/step - accuracy: 0.8521 - loss: 0.4585 - val_accuracy: 0.8949 - val_loss: 0.3288\n",
            "Epoch 9/10\n",
            "\u001b[1m435/435\u001b[0m \u001b[32m━━━━━━━━━━━━━━━━━━━━\u001b[0m\u001b[37m\u001b[0m \u001b[1m4594s\u001b[0m 11s/step - accuracy: 0.8627 - loss: 0.4280 - val_accuracy: 0.9007 - val_loss: 0.3024\n",
            "Epoch 10/10\n",
            "\u001b[1m161/435\u001b[0m \u001b[32m━━━━━━━\u001b[0m\u001b[37m━━━━━━━━━━━━━\u001b[0m \u001b[1m46:08\u001b[0m 10s/step - accuracy: 0.8791 - loss: 0.3747"
          ]
        }
      ]
    },
    {
      "cell_type": "code",
      "source": [
        "model.save(\"/content/drive/MyDrive/AI/models/efficientnet_model_3.h5\")\n"
      ],
      "metadata": {
        "id": "kVAFSnOkDZiZ"
      },
      "execution_count": null,
      "outputs": []
    },
    {
      "cell_type": "code",
      "source": [
        "with open(\"/content/drive/MyDrive/AI/models/history_finetune.json\", \"w\") as f:\n",
        "    json.dump(history_finetune.history, f)\n"
      ],
      "metadata": {
        "id": "dp8gQ81SDZk3"
      },
      "execution_count": null,
      "outputs": []
    },
    {
      "cell_type": "code",
      "source": [],
      "metadata": {
        "id": "Nhzu1pD-DZnS"
      },
      "execution_count": null,
      "outputs": []
    }
  ]
}